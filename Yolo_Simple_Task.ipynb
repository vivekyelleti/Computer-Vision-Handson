{
  "nbformat": 4,
  "nbformat_minor": 0,
  "metadata": {
    "colab": {
      "provenance": []
    },
    "kernelspec": {
      "name": "python3",
      "display_name": "Python 3"
    },
    "language_info": {
      "name": "python"
    }
  },
  "cells": [
    {
      "cell_type": "code",
      "execution_count": 20,
      "metadata": {
        "colab": {
          "base_uri": "https://localhost:8080/"
        },
        "id": "L_SuLljRSVhR",
        "outputId": "551d803c-c46c-491b-ade5-f1f7ec105b17"
      },
      "outputs": [
        {
          "output_type": "stream",
          "name": "stdout",
          "text": [
            "yolov3.weights already exists.\n",
            "yolov3.cfg already exists.\n",
            "coco.names already exists.\n"
          ]
        }
      ],
      "source": [
        "import cv2\n",
        "import numpy as np\n",
        "import os\n",
        "import requests\n",
        "\n",
        "# URLs for YOLOv3 files\n",
        "yolo_weights_url = 'https://pjreddie.com/media/files/yolov3.weights'\n",
        "yolo_cfg_url = 'https://raw.githubusercontent.com/pjreddie/darknet/master/cfg/yolov3.cfg'\n",
        "coco_names_url = 'https://raw.githubusercontent.com/pjreddie/darknet/master/data/coco.names'\n",
        "\n",
        "# Filenames for the YOLOv3 files\n",
        "yolo_weights_file = 'yolov3.weights'\n",
        "yolo_cfg_file = 'yolov3.cfg'\n",
        "coco_names_file = 'coco.names'\n",
        "\n",
        "# Function to download a file if it doesn't exist\n",
        "def download_file(url, filename):\n",
        "    if not os.path.isfile(filename):\n",
        "        print(f\"Downloading {filename}...\")\n",
        "        response = requests.get(url)\n",
        "        with open(filename, 'wb') as f:\n",
        "            f.write(response.content)\n",
        "        print(f\"{filename} downloaded.\")\n",
        "    else:\n",
        "        print(f\"{filename} already exists.\")\n",
        "\n",
        "# Download the YOLOv3 files\n",
        "download_file(yolo_weights_url, yolo_weights_file)\n",
        "download_file(yolo_cfg_url, yolo_cfg_file)\n",
        "download_file(coco_names_url, coco_names_file)\n"
      ]
    },
    {
      "cell_type": "code",
      "source": [
        "# Load YOLOv3 model\n",
        "net = cv2.dnn.readNet(yolo_weights_file, yolo_cfg_file)\n",
        "\n",
        "# Load COCO class labels\n",
        "with open(coco_names_file, 'r') as f:\n",
        "    classes = [line.strip() for line in f.readlines()]\n",
        "\n",
        "# Get the output layer names from the YOLO model\n",
        "layer_names = net.getLayerNames()\n",
        "output_layers = [layer_names[i - 1] for i in net.getUnconnectedOutLayers()]\n",
        "\n",
        "# Assign random colors to each class label\n",
        "colors = np.random.uniform(0, 255, size=(len(classes), 3))\n"
      ],
      "metadata": {
        "id": "SN6tJ5aGSpZA"
      },
      "execution_count": 21,
      "outputs": []
    },
    {
      "cell_type": "code",
      "source": [
        "# Load the input image\n",
        "image = cv2.imread('sample_input.webp')\n",
        "height, width, channels = image.shape\n",
        "\n",
        "# Prepare the image for YOLO\n",
        "blob = cv2.dnn.blobFromImage(image, 0.00392, (416, 416), (0, 0, 0), True, crop=False)\n",
        "net.setInput(blob)\n",
        "outs = net.forward(output_layers)\n",
        "\n",
        "# Process the detections\n",
        "class_ids = []\n",
        "confidences = []\n",
        "boxes = []\n",
        "\n",
        "for out in outs:\n",
        "    for detection in out:\n",
        "        scores = detection[5:]\n",
        "        class_id = np.argmax(scores)\n",
        "        confidence = scores[class_id]\n",
        "        if confidence > 0.5:\n",
        "            # Object detected\n",
        "            center_x = int(detection[0] * width)\n",
        "            center_y = int(detection[1] * height)\n",
        "            w = int(detection[2] * width)\n",
        "            h = int(detection[3] * height)\n",
        "\n",
        "            # Rectangle coordinates\n",
        "            x = int(center_x - w / 2)\n",
        "            y = int(center_y - h / 2)\n",
        "\n",
        "            boxes.append([x, y, w, h])\n",
        "            confidences.append(float(confidence))\n",
        "            class_ids.append(class_id)\n",
        "\n",
        "# Apply Non-Maximum Suppression to remove overlapping boxes\n",
        "indices = cv2.dnn.NMSBoxes(boxes, confidences, 0.5, 0.4)\n",
        "\n",
        "# Draw the results on the image\n",
        "for i in indices:\n",
        "    x, y, w, h = boxes[i]\n",
        "    label = str(classes[class_ids[i]])\n",
        "    color = colors[class_ids[i]]\n",
        "    cv2.rectangle(image, (x, y), (x + w, y + h), color, 2)\n",
        "    cv2.putText(image, label, (x, y - 10), cv2.FONT_HERSHEY_SIMPLEX, 1, color, 2)"
      ],
      "metadata": {
        "id": "Oo3bphCHSWNn"
      },
      "execution_count": 22,
      "outputs": []
    },
    {
      "cell_type": "code",
      "source": [
        "output_image = 'output_image.jpg'\n",
        "cv2.imwrite(output_image, image)\n"
      ],
      "metadata": {
        "colab": {
          "base_uri": "https://localhost:8080/"
        },
        "id": "MusuIe8NTAt4",
        "outputId": "50585562-677b-4675-fe6a-0324a203fbcc"
      },
      "execution_count": 23,
      "outputs": [
        {
          "output_type": "execute_result",
          "data": {
            "text/plain": [
              "True"
            ]
          },
          "metadata": {},
          "execution_count": 23
        }
      ]
    },
    {
      "cell_type": "code",
      "source": [],
      "metadata": {
        "id": "A0FqgKzuTWBr"
      },
      "execution_count": 12,
      "outputs": []
    },
    {
      "cell_type": "code",
      "source": [],
      "metadata": {
        "id": "BEBBH9JST2yi"
      },
      "execution_count": 12,
      "outputs": []
    },
    {
      "cell_type": "code",
      "source": [],
      "metadata": {
        "id": "TI_74E-9T20n"
      },
      "execution_count": 23,
      "outputs": []
    },
    {
      "cell_type": "code",
      "source": [],
      "metadata": {
        "id": "o2CvOc_dT237"
      },
      "execution_count": null,
      "outputs": []
    },
    {
      "cell_type": "code",
      "source": [],
      "metadata": {
        "id": "ulWbQzEZToEy"
      },
      "execution_count": null,
      "outputs": []
    }
  ]
}